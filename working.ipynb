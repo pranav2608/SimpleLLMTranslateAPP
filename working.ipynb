{
 "cells": [
  {
   "cell_type": "markdown",
   "id": "132f80d8",
   "metadata": {},
   "source": [
    "# Simple LLM Translate Application Using GROQ (open source models)\n",
    "## This application is deployed as RESTAPI using LangServe (integrated with FastAPI)"
   ]
  },
  {
   "cell_type": "code",
   "execution_count": 1,
   "id": "80e249e7",
   "metadata": {},
   "outputs": [],
   "source": [
    "import os\n",
    "from dotenv import load_dotenv\n",
    "load_dotenv()\n",
    "\n",
    "groq_api_key = os.getenv(\"GROQ_KEY\")"
   ]
  },
  {
   "cell_type": "code",
   "execution_count": 2,
   "id": "e13238f1",
   "metadata": {},
   "outputs": [
    {
     "data": {
      "text/plain": [
       "ChatGroq(client=<groq.resources.chat.completions.Completions object at 0x117cf5ad0>, async_client=<groq.resources.chat.completions.AsyncCompletions object at 0x120035110>, model_name='gemma2-9b-it', model_kwargs={}, groq_api_key=SecretStr('**********'))"
      ]
     },
     "execution_count": 2,
     "metadata": {},
     "output_type": "execute_result"
    }
   ],
   "source": [
    "from langchain_groq import ChatGroq\n",
    "model = ChatGroq(model=\"gemma2-9b-it\",groq_api_key=groq_api_key)\n",
    "model"
   ]
  },
  {
   "cell_type": "code",
   "execution_count": null,
   "id": "9e6cdff4",
   "metadata": {},
   "outputs": [],
   "source": [
    "## For demo purpose\n",
    "from langchain_core.messages import HumanMessage,SystemMessage #System message is intruction to model, Human message is user's input\n",
    "messages =[\n",
    "    SystemMessage(content='Translate the following from english to french'),\n",
    "    HumanMessage(content='Hello, how are you?')\n",
    "]\n",
    "result=model.invoke(messages)"
   ]
  },
  {
   "cell_type": "code",
   "execution_count": 5,
   "id": "0d6b755e",
   "metadata": {},
   "outputs": [
    {
     "data": {
      "text/plain": [
       "'Bonjour, comment allez-vous ? \\n\\n\\nYou can also use:\\n\\n* **Salut, ça va ?** (informal)\\n* **Comment allez-vous ?** (formal)\\n'"
      ]
     },
     "execution_count": 5,
     "metadata": {},
     "output_type": "execute_result"
    }
   ],
   "source": [
    "from langchain_core.output_parsers import StrOutputParser\n",
    "parser = StrOutputParser()\n",
    "parser.invoke(result)"
   ]
  },
  {
   "cell_type": "code",
   "execution_count": 7,
   "id": "e441c001",
   "metadata": {},
   "outputs": [
    {
     "data": {
      "text/plain": [
       "ChatPromptValue(messages=[SystemMessage(content='Translate the following into french: ', additional_kwargs={}, response_metadata={}), HumanMessage(content='Hello', additional_kwargs={}, response_metadata={})])"
      ]
     },
     "execution_count": 7,
     "metadata": {},
     "output_type": "execute_result"
    }
   ],
   "source": [
    "# Using LCEL , chaining the components together\n",
    "from langchain_core.prompts import ChatPromptTemplate\n",
    "generic_template = \"Translate the following into {language}: \"\n",
    "\n",
    "prompt = ChatPromptTemplate.from_messages(\n",
    "    [(\"system\",generic_template),(\"user\",\"{user_input}\")]\n",
    ")\n",
    "prompt_result = prompt.invoke({\"language\":\"french\",\"user_input\":\"Hello\"})\n",
    "prompt_result"
   ]
  },
  {
   "cell_type": "code",
   "execution_count": 8,
   "id": "1256ab2b",
   "metadata": {},
   "outputs": [
    {
     "data": {
      "text/plain": [
       "\"Bonjour \\n\\n\\nLet me know if you have any other words or phrases you'd like me to translate!\\n\""
      ]
     },
     "execution_count": 8,
     "metadata": {},
     "output_type": "execute_result"
    }
   ],
   "source": [
    "chain = prompt|model|parser\n",
    "chain.invoke({\"language\":\"french\",\"user_input\":\"Hello\"})"
   ]
  }
 ],
 "metadata": {
  "kernelspec": {
   "display_name": "simple_translate_app",
   "language": "python",
   "name": "python3"
  },
  "language_info": {
   "codemirror_mode": {
    "name": "ipython",
    "version": 3
   },
   "file_extension": ".py",
   "mimetype": "text/x-python",
   "name": "python",
   "nbconvert_exporter": "python",
   "pygments_lexer": "ipython3",
   "version": "3.11.12"
  }
 },
 "nbformat": 4,
 "nbformat_minor": 5
}
